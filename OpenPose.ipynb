{
 "cells": [
  {
   "cell_type": "markdown",
   "metadata": {},
   "source": [
    "# OpenPose"
   ]
  },
  {
   "cell_type": "markdown",
   "metadata": {},
   "source": [
    "**paper**: https://arxiv.org/pdf/1812.08008"
   ]
  },
  {
   "cell_type": "markdown",
   "metadata": {},
   "source": [
    "note: all the work right here is just me writing down all the thing I can understand from the paper above"
   ]
  },
  {
   "cell_type": "markdown",
   "metadata": {
    "vscode": {
     "languageId": "plaintext"
    }
   },
   "source": [
    "## Introduction"
   ]
  },
  {
   "cell_type": "markdown",
   "metadata": {
    "vscode": {
     "languageId": "plaintext"
    }
   },
   "source": [
    "+ Detect the \"skeleton\" of human\n",
    "+ helpful in Action segmentation"
   ]
  },
  {
   "cell_type": "markdown",
   "metadata": {},
   "source": [
    "### Top down and bottom up approach"
   ]
  },
  {
   "cell_type": "markdown",
   "metadata": {},
   "source": [
    "**Top down**: \n",
    "\n",
    "+ detect all human in the frame\n",
    "+ apply the algo to find the skeleton\n",
    "+ time consuming if there are too many persons in the frame\n",
    "+ bad result when uneffectively detect people \n",
    "\n",
    "**Bottom up**:\n",
    "+ robustness to early commitment\n",
    "+  have the potential to decouple runtime complexity from the number of people in the image.\n"
   ]
  },
  {
   "cell_type": "markdown",
   "metadata": {},
   "source": [
    "![](https://media.discordapp.net/attachments/1261282620000567340/1261282650078052413/image.png?ex=66926481&is=66911301&hm=1632343560624ac5dd3c70d34210030f3e1736e74770cf027285c918b498eec8&=&format=webp&quality=lossless&width=1166&height=422)"
   ]
  },
  {
   "cell_type": "markdown",
   "metadata": {},
   "source": [
    "### PAF (Part Affinity Fields)\n",
    "+  a set of 2D vector fields that encode the\n",
    "location and orientation of limbs over the image domain.\n",
    "+ a set of flow fields that encodes\n",
    "unstructured pairwise relationships between body parts of\n",
    "a variable number of people"
   ]
  },
  {
   "cell_type": "markdown",
   "metadata": {
    "vscode": {
     "languageId": "plaintext"
    }
   },
   "source": [
    "![](https://media.discordapp.net/attachments/1261282620000567340/1261285226013790291/image.png?ex=669266e7&is=66911567&hm=0de0c431664ac8c273288c433192a8dfe1f07df2b6ef348bd9b6aa7554668d31&=&format=webp&quality=lossless&width=582&height=285)"
   ]
  },
  {
   "cell_type": "markdown",
   "metadata": {
    "vscode": {
     "languageId": "plaintext"
    }
   },
   "source": [
    "### Part Confidence Map\n",
    "predict confidence heat maps for\n",
    "body part detection"
   ]
  },
  {
   "cell_type": "markdown",
   "metadata": {},
   "source": [
    "## Note\n",
    "So to simplify, we have PCM to predict the joint of body, while the PAF calculate the direction of those joints together.  \n",
    "From what i understood and researched, older works also predict the joints,  \n",
    "but after that, we have a large obstacle to connect those joints together ( solving the proposed integer linear programming over the fully connected graph is an NP-hard)\n",
    "\n",
    "the PAF can solve this problem"
   ]
  },
  {
   "cell_type": "markdown",
   "metadata": {},
   "source": [
    "## Method"
   ]
  },
  {
   "cell_type": "markdown",
   "metadata": {},
   "source": [
    "![old](https://media.discordapp.net/attachments/1261282620000567340/1261299587931574312/image.png?ex=66927447&is=669122c7&hm=3a0a25b1143921280319c2d5f21720302c7db1ff5196b60b0b2144db84bbaa85&=&format=webp&quality=lossless&width=1237&height=490)"
   ]
  },
  {
   "cell_type": "markdown",
   "metadata": {
    "vscode": {
     "languageId": "plaintext"
    }
   },
   "source": [
    "![new](https://media.discordapp.net/attachments/1261282620000567340/1261301974855585802/image.png?ex=66927680&is=66912500&hm=93535cecd75a1820b240e912b1687e0c4b933510ed4af1803f751339cf9c7e35&=&format=webp&quality=lossless&width=728&height=275)"
   ]
  },
  {
   "cell_type": "markdown",
   "metadata": {},
   "source": [
    "the first image is the first method in the 2017 paper, while the second one is the late 2018\n"
   ]
  },
  {
   "cell_type": "markdown",
   "metadata": {},
   "source": [
    "in the second paper, the author stated that the confidence map is not important as the PAF.  \n",
    "Intuitively, from PAF, we can predict right away the joint  \n",
    "So instead of refine both L and S each stage, the author first refine the L and then the S "
   ]
  },
  {
   "cell_type": "markdown",
   "metadata": {},
   "source": [
    "![](https://media.discordapp.net/attachments/1261282620000567340/1261302881382957087/image.png?ex=66927758&is=669125d8&hm=5be4be6227e44c254c513e8a595577587a2c6308745a5a1049f3a6d0236b3c67&=&format=webp&quality=lossless&width=687&height=343)"
   ]
  }
 ],
 "metadata": {
  "language_info": {
   "name": "python"
  }
 },
 "nbformat": 4,
 "nbformat_minor": 2
}
